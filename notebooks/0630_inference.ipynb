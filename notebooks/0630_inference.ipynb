{
 "cells": [
  {
   "cell_type": "code",
   "execution_count": 9,
   "metadata": {},
   "outputs": [],
   "source": [
    "import pandas as pd\n",
    "import os"
   ]
  },
  {
   "cell_type": "code",
   "execution_count": 7,
   "metadata": {},
   "outputs": [],
   "source": [
    "df = pd.read_csv(\"/home/jovyan/workspace/generateCT/results_0607/valid_transformer.txt\", delimiter=\"\\t\", header=None)"
   ]
  },
  {
   "cell_type": "code",
   "execution_count": 11,
   "metadata": {},
   "outputs": [],
   "source": [
    "val_transf_list = df.iloc[:, 0].tolist()\n",
    "val_transf_ids = [os.path.basename(p).replace(\".nii.gz\", \"\") for p in val_transf_list]\n",
    "val_transf_ids = set(val_transf_ids)"
   ]
  },
  {
   "cell_type": "code",
   "execution_count": 12,
   "metadata": {},
   "outputs": [],
   "source": [
    "df2 = pd.read_csv(\"/home/jovyan/workspace/generateCT/results_0607/valid.txt\", delimiter=\"\\t\", header=None)\n",
    "val_ctvit_list = df2.iloc[:, 0].tolist()\n",
    "val_ctvit_ids = [os.path.basename(p).replace(\".nii.gz\", \"\") for p in val_ctvit_list]\n",
    "val_ctvit_ids = set(val_ctvit_ids)"
   ]
  },
  {
   "cell_type": "code",
   "execution_count": 13,
   "metadata": {},
   "outputs": [
    {
     "data": {
      "text/plain": [
       "(1157, 1157)"
      ]
     },
     "execution_count": 13,
     "metadata": {},
     "output_type": "execute_result"
    }
   ],
   "source": [
    "len(val_transf_ids), len(val_ctvit_ids)"
   ]
  },
  {
   "cell_type": "code",
   "execution_count": 20,
   "metadata": {},
   "outputs": [],
   "source": [
    "x_ids = list(val_ctvit_ids.intersection(val_transf_ids))"
   ]
  },
  {
   "cell_type": "code",
   "execution_count": 31,
   "metadata": {},
   "outputs": [],
   "source": [
    "val_transf_ids = list(val_transf_ids)"
   ]
  },
  {
   "cell_type": "code",
   "execution_count": 32,
   "metadata": {},
   "outputs": [
    {
     "data": {
      "text/html": [
       "<div>\n",
       "<style scoped>\n",
       "    .dataframe tbody tr th:only-of-type {\n",
       "        vertical-align: middle;\n",
       "    }\n",
       "\n",
       "    .dataframe tbody tr th {\n",
       "        vertical-align: top;\n",
       "    }\n",
       "\n",
       "    .dataframe thead th {\n",
       "        text-align: right;\n",
       "    }\n",
       "</style>\n",
       "<table border=\"1\" class=\"dataframe\">\n",
       "  <thead>\n",
       "    <tr style=\"text-align: right;\">\n",
       "      <th></th>\n",
       "      <th>impression_id</th>\n",
       "      <th>impressions</th>\n",
       "    </tr>\n",
       "  </thead>\n",
       "  <tbody>\n",
       "    <tr>\n",
       "      <th>0</th>\n",
       "      <td>PE9f3aab</td>\n",
       "      <td>IMPRESSION: 1. PROBABLE, SMALL, SUBSEGMENTAL S...</td>\n",
       "    </tr>\n",
       "    <tr>\n",
       "      <th>1</th>\n",
       "      <td>PE45260c6</td>\n",
       "      <td>IMPRESSION: 1.  No evidence of pulmonary embol...</td>\n",
       "    </tr>\n",
       "    <tr>\n",
       "      <th>2</th>\n",
       "      <td>PE4527d8b</td>\n",
       "      <td>IMPRESSION: 1.  No evidence of pulmonary embol...</td>\n",
       "    </tr>\n",
       "    <tr>\n",
       "      <th>3</th>\n",
       "      <td>PE45284c7</td>\n",
       "      <td>IMPRESSION: 1.  No pulmonary embolism. 2.  Red...</td>\n",
       "    </tr>\n",
       "    <tr>\n",
       "      <th>4</th>\n",
       "      <td>PE9f6f88</td>\n",
       "      <td>IMPRESSION:   1.  MILD TO MODERATE ATHEROSCLER...</td>\n",
       "    </tr>\n",
       "  </tbody>\n",
       "</table>\n",
       "</div>"
      ],
      "text/plain": [
       "  impression_id                                        impressions\n",
       "0      PE9f3aab  IMPRESSION: 1. PROBABLE, SMALL, SUBSEGMENTAL S...\n",
       "1     PE45260c6  IMPRESSION: 1.  No evidence of pulmonary embol...\n",
       "2     PE4527d8b  IMPRESSION: 1.  No evidence of pulmonary embol...\n",
       "3     PE45284c7  IMPRESSION: 1.  No pulmonary embolism. 2.  Red...\n",
       "4      PE9f6f88  IMPRESSION:   1.  MILD TO MODERATE ATHEROSCLER..."
      ]
     },
     "execution_count": 32,
     "metadata": {},
     "output_type": "execute_result"
    }
   ],
   "source": [
    "impressions_csv = \"/home/jovyan/shared/slmoro/data/inspect2/Final_Impressions.csv\"\n",
    "impressions_df = pd.read_csv(impressions_csv)\n",
    "impressions_df.head()"
   ]
  },
  {
   "cell_type": "code",
   "execution_count": 34,
   "metadata": {},
   "outputs": [
    {
     "data": {
      "text/plain": [
       "1157"
      ]
     },
     "execution_count": 34,
     "metadata": {},
     "output_type": "execute_result"
    }
   ],
   "source": [
    "sub_df = impressions_df[impressions_df[\"impression_id\"].isin(val_transf_ids)]\n",
    "len(sub_df)\n",
    "# sub_df.head()"
   ]
  },
  {
   "cell_type": "code",
   "execution_count": 35,
   "metadata": {},
   "outputs": [
    {
     "name": "stderr",
     "output_type": "stream",
     "text": [
      "/tmp/ipykernel_68304/304530051.py:1: SettingWithCopyWarning: \n",
      "A value is trying to be set on a copy of a slice from a DataFrame\n",
      "\n",
      "See the caveats in the documentation: https://pandas.pydata.org/pandas-docs/stable/user_guide/indexing.html#returning-a-view-versus-a-copy\n",
      "  sub_df.rename(columns={\"impression_id\": \"Names\", \"impressions\": \"Text_prompts\"}, inplace=True)\n"
     ]
    },
    {
     "data": {
      "text/html": [
       "<div>\n",
       "<style scoped>\n",
       "    .dataframe tbody tr th:only-of-type {\n",
       "        vertical-align: middle;\n",
       "    }\n",
       "\n",
       "    .dataframe tbody tr th {\n",
       "        vertical-align: top;\n",
       "    }\n",
       "\n",
       "    .dataframe thead th {\n",
       "        text-align: right;\n",
       "    }\n",
       "</style>\n",
       "<table border=\"1\" class=\"dataframe\">\n",
       "  <thead>\n",
       "    <tr style=\"text-align: right;\">\n",
       "      <th></th>\n",
       "      <th>Names</th>\n",
       "      <th>Text_prompts</th>\n",
       "    </tr>\n",
       "  </thead>\n",
       "  <tbody>\n",
       "    <tr>\n",
       "      <th>15</th>\n",
       "      <td>PE9f46a4</td>\n",
       "      <td>IMPRESSION: 1. CHRONIC APPEARING PULMONARY EMB...</td>\n",
       "    </tr>\n",
       "    <tr>\n",
       "      <th>18</th>\n",
       "      <td>PE9f7415</td>\n",
       "      <td>IMPRESSION: 1. NO EVIDENCE FOR A THORACIC AORT...</td>\n",
       "    </tr>\n",
       "    <tr>\n",
       "      <th>20</th>\n",
       "      <td>PE87cd75</td>\n",
       "      <td>IMPRESSION: 1. A 5 MM GROUND-GLASS NODULAR OPA...</td>\n",
       "    </tr>\n",
       "    <tr>\n",
       "      <th>33</th>\n",
       "      <td>PE45295d8</td>\n",
       "      <td>IMPRESSION: 1.  No pulmonary embolism identifi...</td>\n",
       "    </tr>\n",
       "    <tr>\n",
       "      <th>43</th>\n",
       "      <td>PE9f57f3</td>\n",
       "      <td>IMPRESSION: 1. FINDINGS CONSISTENT WITH SEGMEN...</td>\n",
       "    </tr>\n",
       "  </tbody>\n",
       "</table>\n",
       "</div>"
      ],
      "text/plain": [
       "        Names                                       Text_prompts\n",
       "15   PE9f46a4  IMPRESSION: 1. CHRONIC APPEARING PULMONARY EMB...\n",
       "18   PE9f7415  IMPRESSION: 1. NO EVIDENCE FOR A THORACIC AORT...\n",
       "20   PE87cd75  IMPRESSION: 1. A 5 MM GROUND-GLASS NODULAR OPA...\n",
       "33  PE45295d8  IMPRESSION: 1.  No pulmonary embolism identifi...\n",
       "43   PE9f57f3  IMPRESSION: 1. FINDINGS CONSISTENT WITH SEGMEN..."
      ]
     },
     "execution_count": 35,
     "metadata": {},
     "output_type": "execute_result"
    }
   ],
   "source": [
    "sub_df.rename(columns={\"impression_id\": \"Names\", \"impressions\": \"Text_prompts\"}, inplace=True)\n",
    "sub_df.head()"
   ]
  },
  {
   "cell_type": "code",
   "execution_count": 36,
   "metadata": {},
   "outputs": [],
   "source": [
    "# sub_df.rename(columns={\"impression_id\": \"Names\", \"Text_prompts\": \"Impressions\"}, inplace=True)\n",
    "sub_df.to_csv(\"/home/jovyan/workspace/generateCT/example_data/valid_transformer_text_prompts.csv\", index=False)"
   ]
  },
  {
   "cell_type": "code",
   "execution_count": 37,
   "metadata": {},
   "outputs": [
    {
     "name": "stderr",
     "output_type": "stream",
     "text": [
      "/tmp/ipykernel_68304/683979429.py:1: SettingWithCopyWarning: \n",
      "A value is trying to be set on a copy of a slice from a DataFrame\n",
      "\n",
      "See the caveats in the documentation: https://pandas.pydata.org/pandas-docs/stable/user_guide/indexing.html#returning-a-view-versus-a-copy\n",
      "  sub_df.rename(columns={\"Names\": \"AccessionNo\", \"Text_prompts\": \"Impressions\"}, inplace=True)\n"
     ]
    }
   ],
   "source": [
    "sub_df.rename(columns={\"Names\": \"AccessionNo\", \"Text_prompts\": \"Impressions\"}, inplace=True)\n",
    "sub_df.to_excel(\"/home/jovyan/workspace/generateCT/example_data/valid_transformer_text_prompts.xlsx\", index=False)"
   ]
  },
  {
   "cell_type": "code",
   "execution_count": null,
   "metadata": {},
   "outputs": [],
   "source": []
  }
 ],
 "metadata": {
  "kernelspec": {
   "display_name": "Python 3",
   "language": "python",
   "name": "python3"
  },
  "language_info": {
   "codemirror_mode": {
    "name": "ipython",
    "version": 3
   },
   "file_extension": ".py",
   "mimetype": "text/x-python",
   "name": "python",
   "nbconvert_exporter": "python",
   "pygments_lexer": "ipython3",
   "version": "3.10.17"
  }
 },
 "nbformat": 4,
 "nbformat_minor": 2
}
